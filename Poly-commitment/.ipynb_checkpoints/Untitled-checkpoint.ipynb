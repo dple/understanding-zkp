{
 "cells": [
  {
   "cell_type": "code",
   "execution_count": 1,
   "id": "32b56423-0788-4c25-81e6-a969079ff40f",
   "metadata": {},
   "outputs": [],
   "source": [
    "import numpy as np\n",
    "import galois\n",
    "from py_ecc.optimized_bls12_381 import add, multiply, G1, G2, neg, pairing, eq, normalize"
   ]
  },
  {
   "cell_type": "code",
   "execution_count": 2,
   "id": "1a2bb800-119d-4268-9f31-35d64fcfce7c",
   "metadata": {},
   "outputs": [],
   "source": [
    "class SRS:\n",
    "    def __init__(self, tau, n = 2):\n",
    "        self.tau = tau\n",
    "        self.tau1 = [multiply(G1, int(tau)**i) for i in range(0, n + 3)]\n",
    "        self.tau2 = multiply(G2, int(tau))\n",
    "\n",
    "    def __str__(self):\n",
    "        s = f\"tau: {self.tau}\\n\"\n",
    "        s += \"\".join([f\"[tau^{i}]G1: {str(normalize(point))}\\n\" for i, point in enumerate(self.tau1)])\n",
    "        s += f\"[tau^{i}]G2: {str(normalize(self.tau2))}\\n\"\n",
    "        return s\n",
    "\n",
    "\n",
    "def new_call(self, at, **kwargs):\n",
    "    if isinstance(at, SRS):\n",
    "        coeffs = self.coeffs[::-1]\n",
    "        result = multiply(at.tau1[0], coeffs[0])\n",
    "        for i in range(1, len(coeffs)):\n",
    "            result = add(result, multiply(at.tau1[i], coeffs[i]))\n",
    "        return result\n",
    "\n",
    "    return galois.Poly.original_call(self, at, **kwargs)"
   ]
  },
  {
   "cell_type": "code",
   "execution_count": 3,
   "id": "19d491b7-d39e-487a-829c-6364e52c497a",
   "metadata": {},
   "outputs": [],
   "source": [
    "galois.Poly.original_call = galois.Poly.__call__\n",
    "galois.Poly.__call__ = new_call"
   ]
  },
  {
   "cell_type": "code",
   "execution_count": 4,
   "id": "eca4a102-b98a-4628-9671-565f173387ce",
   "metadata": {},
   "outputs": [
    {
     "name": "stdout",
     "output_type": "stream",
     "text": [
      "out = -25\n",
      "roots = [  1  30 177   8 240 211  64 233]\n"
     ]
    }
   ],
   "source": [
    "x = 2\n",
    "y = 3\n",
    "\n",
    "# 2x^2 - x^2y^2 + 3\n",
    "out = 2*x**2 - x**2*y**2 + 3\n",
    "print(f\"out = {out}\")\n",
    "\n",
    "# We have 7 gates, next power of 2 is 8\n",
    "n = 7\n",
    "n = 2**int(np.ceil(np.log2(n)))\n",
    "assert n & n - 1 == 0, \"n must be a power of 2\"\n",
    "\n",
    "# Prime field p\n",
    "p = 241\n",
    "Fp = galois.GF(p)\n",
    "\n",
    "# Find primitive root of unity\n",
    "omega = Fp.primitive_root_of_unity(n)\n",
    "assert omega**(n) == 1, f\"omega (ω) {omega} is not a root of unity\"\n",
    "\n",
    "roots = Fp([omega**i for i in range(n)])\n",
    "print(f\"roots = {roots}\")"
   ]
  },
  {
   "cell_type": "code",
   "execution_count": 5,
   "id": "1011c179-c80e-409f-aa8d-f5b7eed0186c",
   "metadata": {},
   "outputs": [
    {
     "name": "stdout",
     "output_type": "stream",
     "text": [
      "a = [2, 2, 3, 4, 4, 8, -28, 0]\n",
      "b = [2, 2, 3, 0, 9, 36, 3, 0]\n",
      "c = [4, 4, 9, 8, 36, -28, -25, 0]\n",
      "ql = [0, 0, 0, 2, 0, 1, 1, 0]\n",
      "qr = [0, 0, 0, 0, 0, -1, 0, 0]\n",
      "qm = [1, 1, 1, 1, 1, 0, 0, 0]\n",
      "qc = [0, 0, 0, 0, 0, 0, 3, 0]\n",
      "qo = [-1, -1, -1, -1, -1, -1, -1, 0]\n",
      "qpi = [0, 0, 0, 0, 0, 0, 0, 0]\n"
     ]
    }
   ],
   "source": [
    "def pad_array(a, n):\n",
    "    return a + [0]*(n - len(a))\n",
    "\n",
    "# witness vectors\n",
    "a = [2, 2, 3, 4, 4, 8, -28]\n",
    "b = [2, 2, 3, 0, 9, 36, 3]\n",
    "c = [4, 4, 9, 8, 36, -28, -25]\n",
    "\n",
    "# gate vectors\n",
    "ql = [0, 0, 0, 2, 0, 1, 1]\n",
    "qr = [0, 0, 0, 0, 0, -1, 0]\n",
    "qm = [1, 1, 1, 1, 1, 0, 0]\n",
    "qc = [0, 0, 0, 0, 0, 0, 3]\n",
    "qo = [-1, -1, -1, -1, -1, -1, -1]\n",
    "qpi = [0, 0, 0, 0, 0, 0, 0]\n",
    "\n",
    "# pad vectors to length n\n",
    "a = pad_array(a, n)\n",
    "b = pad_array(b, n)\n",
    "c = pad_array(c, n)\n",
    "ql = pad_array(ql, n)\n",
    "qr = pad_array(qr, n)\n",
    "qm = pad_array(qm, n)\n",
    "qc = pad_array(qc, n)\n",
    "qo = pad_array(qo, n)\n",
    "qpi = pad_array(qpi, n)\n",
    "\n",
    "print(f\"a = {a}\")\n",
    "print(f\"b = {b}\")\n",
    "print(f\"c = {c}\")\n",
    "print(f\"ql = {ql}\")\n",
    "print(f\"qr = {qr}\")\n",
    "print(f\"qm = {qm}\")\n",
    "print(f\"qc = {qc}\")\n",
    "print(f\"qo = {qo}\")\n",
    "print(f\"qpi = {qpi}\")"
   ]
  },
  {
   "cell_type": "code",
   "execution_count": 6,
   "id": "de9b0869-5565-4bd3-bda6-501edc875342",
   "metadata": {},
   "outputs": [
    {
     "name": "stdout",
     "output_type": "stream",
     "text": [
      " w | value  | i      | sigma(i)\n",
      "a0 |      2 |      1 |      1\n",
      "a1 |      2 |     30 |     30\n",
      "a2 |      3 |    177 |    177\n",
      "a3 |      4 |      8 |      4\n",
      "a4 |      4 |    240 |    120\n",
      "a5 |      8 |    211 |     32\n",
      "a6 |    -28 |     64 |    121\n",
      "a7 |      0 |    233 |    233\n",
      "-- | --     | --     | --    \n",
      "b0 |      2 |      2 |      2\n",
      "b1 |      2 |     60 |     60\n",
      "b2 |      3 |    113 |    113\n",
      "b3 |      0 |     16 |     16\n",
      "b4 |      9 |    239 |    226\n",
      "b5 |     36 |    181 |    237\n",
      "b6 |      3 |    128 |    128\n",
      "b7 |      0 |    225 |    225\n",
      "-- | --     | --     | --    \n",
      "c0 |      4 |      4 |      8\n",
      "c1 |      4 |    120 |    240\n",
      "c2 |      9 |    226 |    239\n",
      "c3 |      8 |     32 |    211\n",
      "c4 |     36 |    237 |    181\n",
      "c5 |    -28 |    121 |     64\n",
      "c6 |    -25 |     15 |     15\n",
      "c7 |      0 |    209 |    209\n",
      "\n",
      "\n",
      "--- Cosest ---\n",
      "c0 = [  1  30 177   8 240 211  64 233]\n",
      "c1 = [  2  60 113  16 239 181 128 225]\n",
      "c2 = [  4 120 226  32 237 121  15 209]\n",
      "\n",
      "\n",
      "--- Sigma ---\n",
      "sigma1 = [  1  30 177   4 120  32 121 233]\n",
      "sigma2 = [  2  60 113  16 226 237 128 225]\n",
      "sigma3 = [  8 240 239 211 181  64  15 209]\n"
     ]
    }
   ],
   "source": [
    "def print_sigma(sigma, a, b, c, r):\n",
    "    group_size = len(sigma) // 3\n",
    "    padding = 6\n",
    "\n",
    "    print(f\"{' w'} | {'value':{padding}} | {'i':{padding}} | {'sigma(i)':{padding}}\")\n",
    "\n",
    "    for i in range(0, group_size):\n",
    "        print(f\"a{i} | {a[i]:{padding}} | {r[i]:{padding}} | {r[sigma[i]]:{padding}}\")\n",
    "\n",
    "    print(f\"-- | {'--':{padding}} | {'--':{padding}} | {'--':{padding}}\")\n",
    "\n",
    "    for i in range(group_size, 2 * group_size):\n",
    "        print(f\"b{i - group_size} | {b[i - group_size]:{padding}} | {r[i]:{padding}} | {r[sigma[i]]:{padding}}\")\n",
    "\n",
    "    print(f\"-- | {'--':{padding}} | {'--':{padding}} | {'--':{padding}}\")\n",
    "\n",
    "    for i in range(2 * group_size, 3 * group_size):\n",
    "        print(f\"c{i - 2 * group_size} | {c[i - 2 * group_size]:{padding}} | {r[i]:{padding}} | {r[sigma[i]]:{padding}}\")\n",
    "\n",
    "ai = range(0, n)\n",
    "bi = range(n, 2*n)\n",
    "ci = range(2*n, 3*n)\n",
    "\n",
    "sigma = {\n",
    "    ai[0]: ai[0], ai[1]: ai[1], ai[2]: ai[2], ai[3]: ci[0], ai[4]: ci[1], ai[5]: ci[3], ai[6]: ci[5], ai[7]: ai[7],\n",
    "    bi[0]: bi[0], bi[1]: bi[1], bi[2]: bi[2], bi[3]: bi[3], bi[4]: ci[2], bi[5]: ci[4], bi[6]: bi[6], bi[7]: bi[7],\n",
    "    ci[0]: ai[3], ci[1]: ai[4], ci[2]: bi[4], ci[3]: ai[5], ci[4]: bi[5], ci[5]: ai[6], ci[6]: ci[6], ci[7]: ci[7],\n",
    "}\n",
    "\n",
    "k1 = 2\n",
    "k2 = 4\n",
    "c1_roots = roots\n",
    "c2_roots = roots * k1\n",
    "c3_roots = roots * k2\n",
    "\n",
    "c_roots = np.concatenate((c1_roots, c2_roots, c3_roots))\n",
    "\n",
    "check = set()\n",
    "for r in c_roots:\n",
    "    assert not int(r) in check, f\"Duplicate root {r} in {c_roots}\"\n",
    "    check.add(int(r))\n",
    "\n",
    "sigma1 = Fp([c_roots[sigma[i]] for i in range(0, n)])\n",
    "sigma2 = Fp([c_roots[sigma[i + n]] for i in range(0, n)])\n",
    "sigma3 = Fp([c_roots[sigma[i + 2 * n]] for i in range(0, n)])\n",
    "\n",
    "print_sigma(sigma, a, b, c, c_roots)\n",
    "\n",
    "print(\"\\n\\n--- Cosest ---\")\n",
    "print(f\"c0 = {c1_roots}\")\n",
    "print(f\"c1 = {c2_roots}\")\n",
    "print(f\"c2 = {c3_roots}\")\n",
    "\n",
    "print(\"\\n\\n--- Sigma ---\")\n",
    "print(f\"sigma1 = {sigma1}\")\n",
    "print(f\"sigma2 = {sigma2}\")\n",
    "print(f\"sigma3 = {sigma3}\")"
   ]
  },
  {
   "cell_type": "code",
   "execution_count": 7,
   "id": "baf602b4-45f5-4d47-87fd-a7e2fa84d863",
   "metadata": {},
   "outputs": [
    {
     "name": "stdout",
     "output_type": "stream",
     "text": [
      "--- Gate Polynomials ---\n",
      "QL = 187x^7 + 38x^6 + 119x^5 + 60x^4 + 70x^3 + 22x^2 + 106x + 121\n",
      "QR = 64x^7 + 8x^6 + x^5 + 211x^4 + 177x^3 + 233x^2 + 240x + 30\n",
      "QM = 57x^7 + 211x^6 + 73x^5 + 211x^4 + 168x^3 + 211x^2 + 184x + 91\n",
      "QC = 24x^7 + 90x^6 + 217x^5 + 151x^4 + 24x^3 + 90x^2 + 217x + 151\n",
      "QO = 240x^7 + 8x^6 + 177x^5 + 30x^4 + x^3 + 233x^2 + 64x + 210\n",
      "QPI = 0\n"
     ]
    }
   ],
   "source": [
    "def to_galois_array(vector, field):\n",
    "    # normalize to positive values\n",
    "    a = [x % field.order for x in vector]\n",
    "    return field(a)\n",
    "\n",
    "def to_poly(x, v, field):\n",
    "    assert len(x) == len(v)\n",
    "    y = to_galois_array(v, field) if type(v) == list else v\n",
    "    return galois.lagrange_poly(x, y)\n",
    "\n",
    "QL = to_poly(roots, ql, Fp)\n",
    "QR = to_poly(roots, qr, Fp)\n",
    "QM = to_poly(roots, qm, Fp)\n",
    "QC = to_poly(roots, qc, Fp)\n",
    "QO = to_poly(roots, qo, Fp)\n",
    "QPI = to_poly(roots, qpi, Fp)\n",
    "\n",
    "print(\"--- Gate Polynomials ---\")\n",
    "print(f\"QL = {QL}\")\n",
    "print(f\"QR = {QR}\")\n",
    "print(f\"QM = {QM}\")\n",
    "print(f\"QC = {QC}\")\n",
    "print(f\"QO = {QO}\")\n",
    "print(f\"QPI = {QPI}\")"
   ]
  },
  {
   "cell_type": "code",
   "execution_count": 8,
   "id": "2d337adc-5e54-4bd2-85a3-b69e18025ed6",
   "metadata": {},
   "outputs": [
    {
     "name": "stdout",
     "output_type": "stream",
     "text": [
      "--- Vanishing Polynomial ---\n",
      "Zh = x^8 + 240\n"
     ]
    }
   ],
   "source": [
    "def to_vanishing_poly(roots, field):\n",
    "    # Z^n - 1 = (Z - 1)(Z - w)(Z - w^2)...(Z - w^(n-1))\n",
    "    return galois.Poly.Degrees([len(roots), 0], coeffs=[1, -1], field=field)\n",
    "\n",
    "Zh = to_vanishing_poly(roots, Fp)\n",
    "for x in roots:\n",
    "    assert Zh(x) == 0\n",
    "\n",
    "print(\"--- Vanishing Polynomial ---\")\n",
    "print(f\"Zh = {Zh}\")"
   ]
  },
  {
   "cell_type": "code",
   "execution_count": 9,
   "id": "2db066d9-56cb-400b-8395-c91e47919cc4",
   "metadata": {},
   "outputs": [
    {
     "name": "stdout",
     "output_type": "stream",
     "text": [
      "i =   0 -->   1    I1(  1) =   1    I2(  1) =   2    I3(  1) =   4    S1(  1) =   1    S2(  1) =   2    S3(  1) =   8 \n",
      "i =   1 -->  30    I1( 30) =  30    I2( 30) =  60    I3( 30) = 120    S1( 30) =  30    S2( 30) =  60    S3( 30) = 240 \n",
      "i =   2 --> 177    I1(177) = 177    I2(177) = 113    I3(177) = 226    S1(177) = 177    S2(177) = 113    S3(177) = 239 \n",
      "i =   3 -->   8    I1(  8) =   8    I2(  8) =  16    I3(  8) =  32    S1(  8) =   4    S2(  8) =  16    S3(  8) = 211 \n",
      "i =   4 --> 240    I1(240) = 240    I2(240) = 239    I3(240) = 237    S1(240) = 120    S2(240) = 226    S3(240) = 181 \n",
      "i =   5 --> 211    I1(211) = 211    I2(211) = 181    I3(211) = 121    S1(211) =  32    S2(211) = 237    S3(211) =  64 \n",
      "i =   6 -->  64    I1( 64) =  64    I2( 64) = 128    I3( 64) =  15    S1( 64) = 121    S2( 64) = 128    S3( 64) =  15 \n",
      "i =   7 --> 233    I1(233) = 233    I2(233) = 225    I3(233) = 209    S1(233) = 233    S2(233) = 225    S3(233) = 209 \n"
     ]
    }
   ],
   "source": [
    "S1 = to_poly(roots, sigma1, Fp)\n",
    "S2 = to_poly(roots, sigma2, Fp)\n",
    "S3 = to_poly(roots, sigma3, Fp)\n",
    "\n",
    "I1 = to_poly(roots, c1_roots, Fp)\n",
    "I2 = to_poly(roots, c2_roots, Fp)\n",
    "I3 = to_poly(roots, c3_roots, Fp)\n",
    "\n",
    "padding = 3\n",
    "for i in range(0, len(roots)):\n",
    "    s  = f\"i = {i:{padding}} --> {roots[i]:{padding}} \"\n",
    "    s += f\"   I1({roots[i]:{padding}}) = {I1(roots[i]):{padding}} \"\n",
    "    s += f\"   I2({roots[i]:{padding}}) = {I2(roots[i]):{padding}} \"\n",
    "    s += f\"   I3({roots[i]:{padding}}) = {I3(roots[i]):{padding}} \"\n",
    "    s += f\"   S1({roots[i]:{padding}}) = {S1(roots[i]):{padding}} \"\n",
    "    s += f\"   S2({roots[i]:{padding}}) = {S2(roots[i]):{padding}} \"\n",
    "    s += f\"   S3({roots[i]:{padding}}) = {S3(roots[i]):{padding}} \"\n",
    "    print(s)\n",
    "\n",
    "    assert I1(roots[i]) == roots[i], f\"I1({roots[i]}) != {roots[i]}\"\n",
    "    assert I2(roots[i]) == k1 * roots[i], f\"I2({roots[i]}) != {k1 * roots[i]}\"\n",
    "    assert I3(roots[i]) == k2 * roots[i], f\"I3({roots[i]}) != {k2 * roots[i]}\"\n",
    "\n",
    "    assert S1(roots[i]) == sigma1[i], f\"S1({roots[i]}) != {sigma1[i]}\"\n",
    "    assert S2(roots[i]) == sigma2[i], f\"S2({roots[i]}) != {sigma2[i]}\"\n",
    "    assert S3(roots[i]) == sigma3[i], f\"S3({roots[i]}) != {sigma3[i]}\""
   ]
  },
  {
   "cell_type": "code",
   "execution_count": 10,
   "id": "27a973c5-f2ad-45a5-93bf-2ee935bdf9e3",
   "metadata": {},
   "outputs": [
    {
     "name": "stdout",
     "output_type": "stream",
     "text": [
      "--- Tau ---\n",
      "22\n"
     ]
    }
   ],
   "source": [
    "def generate_tau(encrypted=False):\n",
    "    return SRS(Fp.Random(), n) if encrypted else Fp.Random()\n",
    "\n",
    "tau = generate_tau()\n",
    "print(f\"--- Tau ---\")\n",
    "print(tau)"
   ]
  },
  {
   "cell_type": "code",
   "execution_count": 11,
   "id": "7cfdd8be-5206-42ce-9e0c-e96c259abcbc",
   "metadata": {},
   "outputs": [
    {
     "name": "stdout",
     "output_type": "stream",
     "text": [
      "--- Gate Constraints Polynomial ---\n",
      "G = 53x^25 + 86x^24 + 26x^23 + 47x^22 + 234x^21 + 26x^20 + 29x^19 + 9x^18 + 209x^17 + 19x^16 + 178x^15 + 200x^14 + 169x^13 + 108x^12 + 10x^11 + 237x^10 + 58x^9 + 215x^8 + 37x^7 + 235x^6 + 79x^5 + 107x^4 + 202x^3 + 236x^2 + 162x + 162\n",
      "gate #0 G(1) = 0 --> OK\n",
      "gate #1 G(30) = 0 --> OK\n",
      "gate #2 G(177) = 0 --> OK\n",
      "gate #3 G(8) = 0 --> OK\n",
      "gate #4 G(240) = 0 --> OK\n",
      "gate #5 G(211) = 0 --> OK\n",
      "gate #6 G(64) = 0 --> OK\n",
      "gate #7 G(233) = 0 --> OK\n",
      "i =   0 -->   1    A(  1) =   2    B(  1) =   2    C(  1) =   4 \n",
      "i =   1 -->  30    A( 30) =   2    B( 30) =   2    C( 30) =   4 \n",
      "i =   2 --> 177    A(177) =   3    B(177) =   3    C(177) =   9 \n",
      "i =   3 -->   8    A(  8) =   4    B(  8) =   0    C(  8) =   8 \n",
      "i =   4 --> 240    A(240) =   4    B(240) =   9    C(240) =  36 \n",
      "i =   5 --> 211    A(211) =   8    B(211) =  36    C(211) = 213 \n",
      "i =   6 -->  64    A( 64) = 213    B( 64) =   3    C( 64) = 216 \n",
      "i =   7 --> 233    A(233) =   0    B(233) =   0    C(233) =   0 \n",
      "\n",
      "\n",
      "--- Round 1 ---\n",
      "Round 1 = [GF(67, order=241), GF(238, order=241), GF(81, order=241)]\n",
      "TODO: [A], [B], [C]\n"
     ]
    }
   ],
   "source": [
    "random_b = [Fp.Random() for i in range(0, 9)]\n",
    "\n",
    "bA = galois.Poly(random_b[:2], field=Fp)\n",
    "bB = galois.Poly(random_b[2:4], field=Fp)\n",
    "bC = galois.Poly(random_b[4:6], field=Fp)\n",
    "\n",
    "_A = to_poly(roots, a, Fp)\n",
    "_B = to_poly(roots, b, Fp)\n",
    "_C = to_poly(roots, c, Fp)\n",
    "\n",
    "A = _A + bA*Zh\n",
    "B = _B + bB*Zh\n",
    "C = _C + bC*Zh\n",
    "\n",
    "# gate constraints polynomial\n",
    "# g(x) = a(x)*ql(x) + b(x)*qr(x) + a(x)*b(x)*qm(x) + qc(x) + c(x)*qo(x)\n",
    "G = A*QL + B*QR + A*B*QM + QC + C*QO + QPI\n",
    "\n",
    "print(\"--- Gate Constraints Polynomial ---\")\n",
    "print(f\"G = {G}\")\n",
    "for i in range(0, len(roots)):\n",
    "    print(f\"gate #{i} G({roots[i]}) = {G(roots[i])} --> {'OK' if G(roots[i]) == 0 else 'FAIL'}\")\n",
    "    assert G(roots[i]) == 0, f\"G({roots[i]}) != 0\"\n",
    "\n",
    "assert G % Zh == 0, f\"G(x) % Zh(x) != 0\"\n",
    "\n",
    "padding = 3\n",
    "for i in range(0, len(roots)):\n",
    "    s = f\"i = {i:{padding}} --> {roots[i]:{padding}} \"\n",
    "    s += f\"   A({roots[i]:{padding}}) = {A(roots[i]):{padding}} \"\n",
    "    s += f\"   B({roots[i]:{padding}}) = {B(roots[i]):{padding}} \"\n",
    "    s += f\"   C({roots[i]:{padding}}) = {C(roots[i]):{padding}} \"\n",
    "    print(s)\n",
    "\n",
    "round1 = [A(tau), B(tau), C(tau)]\n",
    "print(\"\\n\\n--- Round 1 ---\")\n",
    "print(f\"Round 1 = {round1}\")\n",
    "print(\"TODO: [A], [B], [C]\")"
   ]
  },
  {
   "cell_type": "code",
   "execution_count": 13,
   "id": "aa657aa2-7819-4d64-a73b-43f393bf11f0",
   "metadata": {},
   "outputs": [
    {
     "ename": "ModuleNotFoundError",
     "evalue": "No module named 'pysha3'",
     "output_type": "error",
     "traceback": [
      "\u001b[1;31m---------------------------------------------------------------------------\u001b[0m",
      "\u001b[1;31mModuleNotFoundError\u001b[0m                       Traceback (most recent call last)",
      "Cell \u001b[1;32mIn[13], line 1\u001b[0m\n\u001b[1;32m----> 1\u001b[0m \u001b[38;5;28;01mimport\u001b[39;00m \u001b[38;5;21;01mpysha3\u001b[39;00m\n\u001b[0;32m      3\u001b[0m \u001b[38;5;28;01mdef\u001b[39;00m \u001b[38;5;21mnumbers_to_hash\u001b[39m(numbers: [\u001b[38;5;28mint\u001b[39m], field) \u001b[38;5;241m-\u001b[39m\u001b[38;5;241m>\u001b[39m \u001b[38;5;28mint\u001b[39m:\n\u001b[0;32m      4\u001b[0m \u001b[38;5;250m    \u001b[39m\u001b[38;5;124;03m\"\"\"Hash a number.\"\"\"\u001b[39;00m\n",
      "\u001b[1;31mModuleNotFoundError\u001b[0m: No module named 'pysha3'"
     ]
    }
   ],
   "source": [
    "import pysha3\n",
    "\n",
    "def numbers_to_hash(numbers: [int], field) -> int:\n",
    "    \"\"\"Hash a number.\"\"\"\n",
    "    return field(int(sha3.keccak_256(bytes(numbers)).hexdigest(), 16) % field.order)\n",
    "\n",
    "# TODO: calculate beta, gamma from [A], [B], [C]\n",
    "beta = numbers_to_hash(round1 + [0], Fp)\n",
    "gamma = numbers_to_hash(round1 + [1], Fp)\n",
    "\n",
    "_F = (A + I1 * beta + gamma) * (B + I2 * beta + gamma) * (C + I3 * beta + gamma)\n",
    "_G = (A + S1 * beta + gamma) * (B + S2 * beta + gamma) * (C + S3 * beta + gamma)\n",
    "\n",
    "acc_eval = [Fp(1)]\n",
    "for i in range(0, n):\n",
    "    acc_eval.append(\n",
    "        acc_eval[-1] * (_F(roots[i]) / _G(roots[i]))\n",
    "    )\n",
    "assert acc_eval.pop() == Fp(1)\n",
    "ACC = galois.lagrange_poly(roots, Fp(acc_eval))\n",
    "print(\"\\n\\n--- Accumulator Polynomial ---\")\n",
    "print(f\"ACC(x) = {ACC}\")\n",
    "\n",
    "bZ = galois.Poly(random_b[6:9], field=Fp)\n",
    "print(f\"bZ = {bZ}\")\n",
    "Z = bZ * Zh + ACC\n",
    "\n",
    "print(\"\\n\\n--- Z Polynomial ---\")\n",
    "print(f\"Z(x) = {Z}\")\n",
    "\n",
    "for r in roots:\n",
    "    print(f\"Z({r}) = {Z(r)}\")\n",
    "\n",
    "assert Z(roots[0]) == 1\n",
    "assert Z(roots[-1]) == 1\n",
    "\n",
    "round2 = [Z(tau)]\n",
    "print(\"\\n\\n--- Round 2 ---\")\n",
    "print(f\"Round 2 = {round2}\")\n",
    "print(\"TODO: [Z]\")"
   ]
  },
  {
   "cell_type": "code",
   "execution_count": null,
   "id": "b1a9406a-2056-4f52-8985-f717982a2427",
   "metadata": {},
   "outputs": [],
   "source": []
  }
 ],
 "metadata": {
  "kernelspec": {
   "display_name": "Python 3 (ipykernel)",
   "language": "python",
   "name": "python3"
  },
  "language_info": {
   "codemirror_mode": {
    "name": "ipython",
    "version": 3
   },
   "file_extension": ".py",
   "mimetype": "text/x-python",
   "name": "python",
   "nbconvert_exporter": "python",
   "pygments_lexer": "ipython3",
   "version": "3.11.4"
  }
 },
 "nbformat": 4,
 "nbformat_minor": 5
}
