{
 "cells": [
  {
   "cell_type": "code",
   "execution_count": 1,
   "id": "97e4f191-4dbf-465e-abb6-696eae04a94e",
   "metadata": {},
   "outputs": [],
   "source": [
    "from py_ecc.bn128 import G1, G2, multiply, add, neg, curve_order, Z1, pairing\n",
    "import galois\n",
    "from functools import reduce\n",
    "import numpy as np\n",
    "import random"
   ]
  },
  {
   "cell_type": "code",
   "execution_count": 2,
   "id": "d76281e1-82fd-4206-9ef3-98cf804dabbc",
   "metadata": {},
   "outputs": [],
   "source": [
    "def generate_powers_of_tau(tau, degree, point):\n",
    "    return [multiply(point, int(tau ** i)) for i in range(degree + 1)]\n",
    "\n",
    "def inner_product(ec_points, coeffs):    \n",
    "    # Check if number of ec_points equal to the one of coeffs\n",
    "    assert len(coeffs) == len(ec_points), \"Check failed\"\n",
    "\n",
    "    return reduce(add, (multiply(point, int(coeff)) for point, coeff in zip(ec_points, coeffs)), Z1)"
   ]
  },
  {
   "cell_type": "code",
   "execution_count": 3,
   "id": "c37aac72-349e-48e9-a193-070576eec756",
   "metadata": {},
   "outputs": [
    {
     "name": "stdout",
     "output_type": "stream",
     "text": [
      "Initializing a large field, this may take a while...\n",
      "Initialization completed. Start computation ...\n"
     ]
    }
   ],
   "source": [
    "print(\"Initializing a large field, this may take a while...\")\n",
    "p = curve_order\n",
    "GF = galois.GF(p)\n",
    "print(\"Initialization completed. Start computation ...\")"
   ]
  },
  {
   "cell_type": "code",
   "execution_count": 4,
   "id": "6e144d7a-159e-42b7-8c2a-bd553e23c2c6",
   "metadata": {},
   "outputs": [
    {
     "name": "stdout",
     "output_type": "stream",
     "text": [
      "Starting the trusted setup process ...\n",
      "tau =  19465485706817622723382740072826716348161119121687213014771794665024780975491\n",
      "tau * G2 =  ((11247395856097492827305355562510906332542136996059317800425636396561143801920, 20595588957877626158655871624825020802150564402002577065476861957365266790216), (792117968089077715308745982624365730219482899643508230916671037982546527533, 9065865693651718281807478072133264399215287995628978566984864934215491998657))\n"
     ]
    }
   ],
   "source": [
    "# Trusted setup \n",
    "print(\"Starting the trusted setup process ...\")\n",
    "tau = random.randint(1, p)      # get a random number tau\n",
    "d = 4                           # here we are working with a poly of degree 4\n",
    "powers_of_tau_G1 = generate_powers_of_tau(tau, d, G1)   # Generate powers of tau [G1, [tau]G1, [tau^2]G1, [tau^3]G1, [tau^4]G1]\n",
    "tauG2 = multiply(G2, int(tau))\n",
    "print(\"tau = \", tau);\n",
    "print(\"tau * G2 = \", tauG2);"
   ]
  },
  {
   "cell_type": "code",
   "execution_count": 5,
   "id": "ccbe537f-2444-46cc-8bd1-58930b6b3eda",
   "metadata": {},
   "outputs": [
    {
     "name": "stdout",
     "output_type": "stream",
     "text": [
      "Committing poly f(X) ...\n",
      "Commitment com_f:  (2185357591995161491282103273655962372364221723039242029771313900080707328922, 3506762793404286731729255492663835832293994265110975627805774775302582796222)\n"
     ]
    }
   ],
   "source": [
    "print(\"Committing poly f(X) ...\")\n",
    "fX = galois.Poly([5, 0, 0, - 2, 3], field = GF)\n",
    "com_f = inner_product(powers_of_tau_G1, fX.coeffs[::-1])\n",
    "print(\"Commitment com_f: \", com_f)"
   ]
  },
  {
   "cell_type": "code",
   "execution_count": 6,
   "id": "6803a7ed-fb56-4d40-a56e-0077c6bda2e0",
   "metadata": {},
   "outputs": [
    {
     "name": "stdout",
     "output_type": "stream",
     "text": [
      "Opening the commitment ...\n",
      "Q(X):  5x^3 + 10x^2 + 20x + 38\n",
      "Generating proof ...\n",
      "Proof of commitment com_q:  (16023929903155862173621927744155775517826161507199864652232369747933717115609, 17481877964210517788679116335044914637384694359555431978687750926059849649081)\n"
     ]
    }
   ],
   "source": [
    "# Open the commitment\n",
    "print(\"Opening the commitment ...\")    \n",
    "u = 2               # Verifier chooses a random v, e.g., v = 2, then sends it the prover\n",
    "# Prover calculates v and the polynomial Q(X)\n",
    "v = fX(u)           \n",
    "qX = (fX - v) // galois.Poly([1, -u], field = GF)\n",
    "print(\"Q(X): \", qX)\n",
    "\n",
    "print(\"Generating proof ...\")\n",
    "com_q = inner_product(powers_of_tau_G1[:d], qX.coeffs[::-1])\n",
    "print(\"Proof of commitment com_q: \", com_q)"
   ]
  },
  {
   "cell_type": "code",
   "execution_count": 7,
   "id": "f01d14c3-824a-4a26-9053-50ed9ab3bfc0",
   "metadata": {},
   "outputs": [
    {
     "name": "stdout",
     "output_type": "stream",
     "text": [
      "tau_minus_uG2 =  ((8974409604474593881424262899681016202238946847434369819191428729659100177173, 2100650450433163127448797638846340744415129157661808598372777820409759410835), (4610592300152902485926937644073547063427634653565133602877111544733900875444, 7278965958694509953290788541589832595257965218216299435472526660970378129316))\n",
      "com_f_minus_vG1 =  (15587765004682323766697827624999550960437130827527031178183385184089657752373, 20938358244414769917382623485293067594596629172257767425997520479166692065293)\n"
     ]
    }
   ],
   "source": [
    "uG2 = multiply(G2, int(u))\n",
    "tau_minus_uG2 = add(tauG2, neg(uG2))\n",
    "print(\"tau_minus_uG2 = \", tau_minus_uG2)\n",
    "vG1 = multiply(G1, int(v))\n",
    "com_f_minus_vG1 = add(com_f, neg(vG1))\n",
    "print(\"com_f_minus_vG1 = \", com_f_minus_vG1)"
   ]
  },
  {
   "cell_type": "code",
   "execution_count": null,
   "id": "364bdb5b-c7ec-46d3-8faf-ec33aab94a9b",
   "metadata": {},
   "outputs": [],
   "source": [
    "pairing(tau_minus_uG2, com_q)"
   ]
  },
  {
   "cell_type": "code",
   "execution_count": null,
   "id": "281382e5-e23e-48d0-af80-e0649114fba6",
   "metadata": {},
   "outputs": [],
   "source": [
    "if pairing(tau_minus_uG2, com_q) == pairing(G2, com_f_minus_vG1):\n",
    "    print(\"Proof for commitment is correct!\")\n",
    "else:\n",
    "    print(\"Failed to test the proof!\")"
   ]
  },
  {
   "cell_type": "code",
   "execution_count": null,
   "id": "cc97440c-22dc-4617-b0c9-f086782efa55",
   "metadata": {},
   "outputs": [],
   "source": []
  }
 ],
 "metadata": {
  "kernelspec": {
   "display_name": "Python 3 (ipykernel)",
   "language": "python",
   "name": "python3"
  },
  "language_info": {
   "codemirror_mode": {
    "name": "ipython",
    "version": 3
   },
   "file_extension": ".py",
   "mimetype": "text/x-python",
   "name": "python",
   "nbconvert_exporter": "python",
   "pygments_lexer": "ipython3",
   "version": "3.11.4"
  }
 },
 "nbformat": 4,
 "nbformat_minor": 5
}
