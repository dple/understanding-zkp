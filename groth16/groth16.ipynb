{
 "cells": [
  {
   "cell_type": "code",
   "execution_count": 1,
   "id": "bf7327dc-4488-476f-9b03-ecaf9cd89d43",
   "metadata": {},
   "outputs": [],
   "source": [
    "# Import required packages\n",
    "import numpy as np\n",
    "import galois\n",
    "import random \n",
    "from py_ecc.bn128 import G1, G2, multiply, add, neg, pairing, curve_order, Z1\n",
    "from functools import reduce"
   ]
  },
  {
   "cell_type": "code",
   "execution_count": 2,
   "id": "e5f09242-f744-4fe4-89b8-e122236cdc9f",
   "metadata": {},
   "outputs": [
    {
     "name": "stdout",
     "output_type": "stream",
     "text": [
      "Galois field:  <class 'galois.GF(21888242871839275222246405745257275088548364400416034343698204186575808495617)'>\n",
      "Witness vector:  [                                                                            1\n",
      "  7775573850847386489551847623684343099244235897988069798249451110407634766666\n",
      " 14471461404627795793695734789806779032792678691387592207325835355631177143759\n",
      " 21764905880703304717573902884442041066447275857622489041390664233453269174933\n",
      "  3801390595967506878919913865618962614827377806042337455847183389033776208028\n",
      " 16155782066385206988511716264749044543418615109453637250333055830789010103448\n",
      "  6763845798566572611097455071601620753071984816235116870222183477835485323677\n",
      "  9481753646908141538194129245715740924427580553645104182069092246981238992593]\n"
     ]
    }
   ],
   "source": [
    "\"\"\"\n",
    "The task is to evaluate out <== 3xˆ3 - 5xˆ2yˆ2 + 7xyˆ2 - 21y + 11\n",
    "\n",
    "- Constraints\n",
    "\n",
    "v1 = xx\n",
    "v2 = yy\n",
    "v3 = 3xv1\n",
    "v4 = 5v1v2\n",
    "out - 11 - v3 + v4 + 21y = 7xv2    -> as addition is 'free', we move them to the output side\n",
    "\n",
    "witness = [1, out, x, y, v1, v2, v3, v4]\n",
    "\"\"\"\n",
    "# Initialize a finite field \n",
    "p = curve_order\n",
    "Fp = galois.GF(p)\n",
    "print(\"Galois field: \", Fp)\n",
    "\n",
    "# Matrices L, R, and O are drawn from the above constraints \n",
    "L = Fp([[0, 0, 1, 0, 0, 0, 0, 0],\n",
    "        [0, 0, 0, 1, 0, 0, 0, 0],\n",
    "        [0, 0, 3, 0, 0, 0, 0, 0],\n",
    "        [0, 0, 0, 0, 5, 0, 0, 0],\n",
    "        [0, 0, 7, 0, 0, 0, 0, 0]])\n",
    "\n",
    "R = Fp([[0, 0, 1, 0, 0, 0, 0, 0],\n",
    "        [0, 0, 0, 1, 0, 0, 0, 0],\n",
    "        [0, 0, 0, 0, 1, 0, 0, 0],\n",
    "        [0, 0, 0, 0, 0, 1, 0, 0],\n",
    "        [0, 0, 0, 0, 0, 1, 0, 0]])\n",
    "\n",
    "O = Fp([[0, 0, 0, 0, 1, 0, 0, 0],\n",
    "        [0, 0, 0, 0, 0, 1, 0, 0],\n",
    "        [0, 0, 0, 0, 0, 0, 1, 0],\n",
    "        [0, 0, 0, 0, 0, 0, 0, 1],\n",
    "        [Fp(p - 11), 1, 0, 21, 0, 0, Fp(p - 1), 1]])    # in GF(p), -1 = p - 1, and -11 = p - 11\n",
    "\n",
    "# Compute the witness\n",
    "x = Fp(random.randint(1, p))\n",
    "y = Fp(random.randint(1, p))\n",
    "v1 = x * x\n",
    "v2 = y * y\n",
    "v3 = 3 * x * v1\n",
    "v4 = 5 * v1 * v2\n",
    "out = v3 - v4 - 21 * y + 7 * x * v2 + Fp(11)\n",
    "\n",
    "witness = Fp([1, out, x, y, v1, v2, v3, v4])  \n",
    "print(\"Witness vector: \", witness)"
   ]
  },
  {
   "cell_type": "code",
   "execution_count": 3,
   "id": "fa35bd65-12ec-45e7-9541-b2b6c96ca6ba",
   "metadata": {},
   "outputs": [
    {
     "name": "stdout",
     "output_type": "stream",
     "text": [
      "L*w =  [14471461404627795793695734789806779032792678691387592207325835355631177143759\n",
      " 21764905880703304717573902884442041066447275857622489041390664233453269174933\n",
      " 21526141342044112158840798624163062009829671673746742278279301880317722935660\n",
      " 19006952979837534394599569328094813074136889030211687279235916945168881040140\n",
      " 13747258345037469666884520547618352875355293238049008076488030743115006023845]\n",
      "R*w =  [14471461404627795793695734789806779032792678691387592207325835355631177143759\n",
      " 21764905880703304717573902884442041066447275857622489041390664233453269174933\n",
      "  3801390595967506878919913865618962614827377806042337455847183389033776208028\n",
      " 16155782066385206988511716264749044543418615109453637250333055830789010103448\n",
      " 16155782066385206988511716264749044543418615109453637250333055830789010103448]\n",
      "O*w =  [ 3801390595967506878919913865618962614827377806042337455847183389033776208028\n",
      " 16155782066385206988511716264749044543418615109453637250333055830789010103448\n",
      "  6763845798566572611097455071601620753071984816235116870222183477835485323677\n",
      "  9481753646908141538194129245715740924427580553645104182069092246981238992593\n",
      "  7903404885333574818525961720678548806476972236733605761638020863980062701207]\n",
      "L*w * Rw =  [ 3801390595967506878919913865618962614827377806042337455847183389033776208028\n",
      " 16155782066385206988511716264749044543418615109453637250333055830789010103448\n",
      "  6763845798566572611097455071601620753071984816235116870222183477835485323677\n",
      "  9481753646908141538194129245715740924427580553645104182069092246981238992593\n",
      "  7903404885333574818525961720678548806476972236733605761638020863980062701207]\n"
     ]
    }
   ],
   "source": [
    "# As O*witness = (L*witness) * (R*witness)\n",
    "print(\"L*w = \", np.dot(L, witness))\n",
    "print(\"R*w = \", np.dot(R, witness))\n",
    "print(\"O*w = \", np.dot(O, witness))\n",
    "print(\"L*w * Rw = \", np.dot(L, witness) * np.dot(R, witness))\n",
    "assert all(np.dot(O, witness) == np.dot(L, witness) * np.dot(R, witness))"
   ]
  },
  {
   "cell_type": "code",
   "execution_count": 4,
   "id": "a63c7bc2-bc32-4193-853e-f4acfed3f437",
   "metadata": {},
   "outputs": [
    {
     "name": "stdout",
     "output_type": "stream",
     "text": [
      "Number of rows of matrices:  5\n",
      "Number of columns of matrices (or elements of witness):  8\n",
      "U(x) = sum(w_i u_i(x)):  7058086472270032655954266841429762004715677400996192642523707756615432828592x^4 + 17847404296521327042293479119918975508902854073444100176429767288306296132248x^3 + 8188586676584086106403295628258189978957759264991724719666363258070998047318x^2 + 14583471748694774136256793692068734526306552647200543926580201975143234482008x + 10570397954236126297280710998645667191006564105587099429522203450646832644827\n",
      "V(x) = sum(w_i v_i(x)):  7762499691348940630024488847493743040701697248924966478913490237047468242703x^4 + 4598290411968978559039455431155403365725180607604866323132055419514064535094x^3 + 17434078390208624569718633739453497063775428127123510831095604841229911922417x^2 + 3359866897986152851296397853096277468661869401500111988435110541004157338273x + 3204968884954374405863164663865133182476867706650170929447778503411383600889\n",
      "W(x) = sum(w_i w_i(x)):  641769001460206205164435050409163305583190395376657572512680223694715831416x^4 + 21113248166303302802521555067755483646156476051192513262997156269096656368770x^3 + 10564943635351424979104804626528825788125183013233828599638215795016350381512x^2 + 20234474224890689477377628996433245254307779578456666660184765496791127158807x + 16911684183479709081490707360264069886299841969030774391608978164162351954374\n",
      "The remainder polynomial:  0\n",
      "Product of two polys U(x) * V(x):  7028831992467687289699461272543399413443135364414113301573162098781793355592x^8 + 13098448628198736472170975633632371655639289349445981916371864555324015019080x^7 + 8141196140402434379776502605486609300375838864563094686289472507746605969134x^6 + 1949426658282913144691512296060072642894479011015126631361558723062214684456x^5 + 3190398758956047011628006757922818374994692042858008132622616252681231359762x^4 + 17096352835477088482898956546577400538293817876562397948515266129892545995900x^3 + 4937820965013172315998900961132438377661905826809978933772332508502993178635x^2 + 3370391623215237027759130116848815856318415809870563265449749920863148777551x + 10653251609472016421035684911186861720850896861751175670985773251906653354769\n",
      "W(x) + t(x)*h(x):  7028831992467687289699461272543399413443135364414113301573162098781793355592x^8 + 13098448628198736472170975633632371655639289349445981916371864555324015019080x^7 + 8141196140402434379776502605486609300375838864563094686289472507746605969134x^6 + 1949426658282913144691512296060072642894479011015126631361558723062214684456x^5 + 3190398758956047011628006757922818374994692042858008132622616252681231359762x^4 + 17096352835477088482898956546577400538293817876562397948515266129892545995900x^3 + 4937820965013172315998900961132438377661905826809978933772332508502993178635x^2 + 3370391623215237027759130116848815856318415809870563265449749920863148777551x + 10653251609472016421035684911186861720850896861751175670985773251906653354769\n"
     ]
    }
   ],
   "source": [
    "\"\"\"\n",
    "Transform the r1cs constraints to Quadratic Arithmetic Program\n",
    "    --> move from vector space (including L, R, O and witness vector) to polynomial space\n",
    "    --> Results are 5 polynomials: lists of u_i(x), v_i(x), w_i(x) (for i in range(len(witness)), U(x), V(x), W(x), t(x) and h(x)\n",
    "\"\"\"\n",
    "\n",
    "# Function returns a list of polynomials of degree d, interpolated from columns of matrix M, \n",
    "# and a sum of inner product of polys with the witness vector w\n",
    "def transform_matrix2poly(M, w, d):\n",
    "    poly_list = []\n",
    "    # Interpolate the matrix M to a polynomial, d: degree of the polynomial\n",
    "    xs = Fp(np.array([i + 1 for i in range(d + 1)]))    \n",
    "    poly_sum = galois.Poly([0] * (d + 1), field=Fp)\n",
    "    for i in range(len(w)):\n",
    "        poly = galois.lagrange_poly(xs, M[:, i])\n",
    "        poly_list.append(poly)\n",
    "        poly_sum += poly * w[i]\n",
    "    return poly_sum, poly_list\n",
    "\n",
    "n = len(L[:, 0])        # number of rows, equivalent to the number of constraints\n",
    "d = n - 1               # degree polynomials interpolated from matrices' columns\n",
    "m = len(L[0, :])        # number of columns = len(witness)\n",
    "print(\"Number of rows of matrices: \", n);\n",
    "print(\"Number of columns of matrices (or elements of witness): \", m)\n",
    "\n",
    "U_poly, u_list = transform_matrix2poly(L, witness, d)   # u_list = list of u_i(x), U(x) = sum(w_i u_i(x))\n",
    "V_poly, v_list = transform_matrix2poly(R, witness, d)   # u_list = list of u_i(x), V(x) = sum(w_i v_i(x))\n",
    "W_poly, w_list = transform_matrix2poly(O, witness, d)   # u_list = list of u_i(x), W(x) = sum(w_i w_i(x))\n",
    "\n",
    "print(\"U(x) = sum(w_i u_i(x)): \", U_poly)\n",
    "print(\"V(x) = sum(w_i v_i(x)): \", V_poly)\n",
    "print(\"W(x) = sum(w_i w_i(x)): \", W_poly)\n",
    "\n",
    "t_poly = galois.Poly.Roots(np.array([i + 1 for i in range(d + 1)]), field=Fp)\n",
    "UV_poly = U_poly * V_poly\n",
    "h_poly = (UV_poly - W_poly) // t_poly\n",
    "remainder = (UV_poly - W_poly) % t_poly\n",
    "# Check if the remainder is equal to zero\n",
    "print(\"The remainder polynomial: \", remainder)\n",
    "assert remainder == 0, \"The remainder polynomial is not equal to 0!\"\n",
    "\n",
    "\"\"\"\n",
    "Verify the equality of polynomials\n",
    "    --> U(x)*V(x) = W(x) + t(x)*h(x)\n",
    "\"\"\"\n",
    "\n",
    "assert UV_poly == W_poly + t_poly * h_poly, \"QAP not equal!\"\n",
    "print(\"Product of two polys U(x) * V(x): \", UV_poly)\n",
    "print(\"W(x) + t(x)*h(x): \", W_poly + t_poly * h_poly)"
   ]
  },
  {
   "cell_type": "code",
   "execution_count": 5,
   "id": "ed9a545a-5d71-42cc-a3b2-2f7b8738be0d",
   "metadata": {},
   "outputs": [
    {
     "name": "stdout",
     "output_type": "stream",
     "text": [
      "tau MUST be secret, trusted server will detroyed it after generating its powers, tau =  8390646662653619683060454939356964359922790597773192303923697854736134504989\n",
      "Passed check #1. The proof is correct with unmodified A, B, C!\n"
     ]
    }
   ],
   "source": [
    "\"\"\"\n",
    "Trusted setup: The groth16's trusted setup consists of two phases: \n",
    "- Phase 1: Generate a random value 'tau' and its powers that are independent from all circuits\n",
    "- Phase 2: Generate proving and verification keys for a specific circuit\n",
    "\"\"\"\n",
    "def generate_powers_of_tau(tau, degree, point):\n",
    "    return [multiply(point, int(tau ** i)) for i in range(degree + 1)]\n",
    "\n",
    "def inner_product(ec_points, coeffs):\n",
    "    # Check if number of ec_points equal to the one of coeffs\n",
    "    assert len(coeffs) == len(ec_points), \"Check failed, number of points is different from number of coeffs!\"\n",
    "\n",
    "    return reduce(add, (multiply(point, int(coeff)) for point, coeff in zip(ec_points, coeffs)), Z1)\n",
    "\n",
    "# Phase 1 \n",
    "tau = random.randint(1, p)\n",
    "print(\"tau MUST be secret, trusted server will detroyed it after generating its powers, tau = \", tau) \n",
    "# tau^0*G1, tau*G1, tauˆ2*G1, ..., tauˆd*G1\n",
    "powers_of_tau_for_G1 = generate_powers_of_tau(tau, d, G1)\n",
    "# tau^0*G2, tau*G2, tauˆ2*G2, ..., tauˆd*G2\n",
    "powers_of_tau_for_G2 = generate_powers_of_tau(tau, d, G2)\n",
    "t_tau = t_poly(tau)\n",
    "powers_of_tau_for_ht = [multiply(powers_of_tau_for_G1[i], int(t_tau)) for i in range(d)]\n",
    "\n",
    "\n",
    "# Phase 2\n",
    "# Prover generates proof\n",
    "A1 = inner_product(powers_of_tau_for_G1, U_poly.coeffs[::-1])\n",
    "B1 = inner_product(powers_of_tau_for_G2, V_poly.coeffs[::-1])\n",
    "Cw = inner_product(powers_of_tau_for_G1, W_poly.coeffs[::-1])\n",
    "evaluate_ht_on_G1_1 = inner_product(powers_of_tau_for_ht, h_poly.coeffs[::-1])\n",
    "C1 = add(Cw, evaluate_ht_on_G1_1)\n",
    "\n",
    "# Verification\n",
    "if pairing(B1, A1) == pairing(G2, C1): \n",
    "    print(\"Passed check #1. The proof is correct with unmodified A, B, C!\")\n",
    "else:\n",
    "    print(\"Proof incorrect!\") "
   ]
  },
  {
   "cell_type": "code",
   "execution_count": 6,
   "id": "62f3d7b9-1444-4a13-a198-9c8f135fcf18",
   "metadata": {},
   "outputs": [
    {
     "name": "stdout",
     "output_type": "stream",
     "text": [
      "[A]G1 = (16120848897776662565189918637869612241944596851233621165148962020008574339657, 20368152155216447751286490789125917743954209697133846476226101156604680297865)\n",
      "[B]G2 = ((12337485224473930372021896426428773925111409809065999597116641910021348549769, 18396857119319705351974156884655369455994305679262406808614099290027983831435), (1926255116067745999450455607221097615344354859229309160898818454762378019534, 17463921644929315669468815195152532136079140704989333799909020788365645824508))\n",
      "[Cw]G1 = (12479547032439429096642142384328059377825117313650141237856967610295018257573, 8188104842207638912994203776269997648225551171665461697428719774400763494267)\n",
      "[C]G1 = (17242622110903129719965874298823162898139034282899039552990805162607746102660, 19019861627253942181327740649051914260579482979327559120186680351068168078069)\n",
      "[ht]G1 = (9261412047496097106970595773857523268596062812058581830392663388965223019611, 21753616733993413565650919974044050030195817314300500002745454820944926128937)\n"
     ]
    }
   ],
   "source": [
    "print(f\"[A]G1 = {A1}\")\n",
    "print(f\"[B]G2 = {B1}\")\n",
    "print(f\"[Cw]G1 = {Cw}\")\n",
    "print(f\"[C]G1 = {C1}\")\n",
    "print(f\"[ht]G1 = {evaluate_ht_on_G1_1}\")"
   ]
  },
  {
   "cell_type": "code",
   "execution_count": 7,
   "id": "8149929e-e404-43fa-908d-2b2e9b966f73",
   "metadata": {},
   "outputs": [
    {
     "name": "stdout",
     "output_type": "stream",
     "text": [
      "Pass test #2, proof is correct after introducing alpha and beta!\n"
     ]
    }
   ],
   "source": [
    "\"\"\"\n",
    "To prevent a dishonest prover from inventing a proof (A, B, C), a secret shifting technique is introduced \n",
    "\"\"\"\n",
    "# Trusted server generates alpha and beta\n",
    "alpha = random.randint(1, p)\n",
    "beta = random.randint(1, p)\n",
    "alpha_G1 = multiply(G1, int(alpha))     # alpha*G1\n",
    "beta_G2 = multiply(G2, int(beta))       # beta*G2\n",
    "\n",
    "def generate_powers_of_tau_for_C(powers_of_tau, d, m, L_mat, R_mat, O_mat, a, b):\n",
    "    ret = []\n",
    "    # require degree + 1 points to interpolate a polynomial of degree d\n",
    "    xs = Fp(np.array([i + 1 for i in range(d + 1)]))\n",
    "    # Each i-th col of matrices L, R, and W will be converted to a polynomial U_i(x), V_i(x) and W_i(x)\n",
    "    for i in range(m):\n",
    "        # U_i(x) = interpolate the i-th column of matrix L\n",
    "        poly_Ui = galois.lagrange_poly(xs, L_mat[:, i])\n",
    "        # Perform a random shift by multiplying the poly with a random factor beta\n",
    "        beta_Ui = poly_Ui * b        # multiply U with beta\n",
    "        # V_i(x) = interpolate the i-th column of matrix R\n",
    "        poly_Vi = galois.lagrange_poly(xs, R_mat[:, i])\n",
    "        # Perform a random shift by multiplying the poly with a random factor alpha\n",
    "        alpha_Vi = poly_Vi * a\n",
    "        # W_i(x) = interpolate the i-th column of matrix W\n",
    "        poly_Wi = galois.lagrange_poly(xs, O_mat[:, i])\n",
    "        # Sum of polys\n",
    "        sum_poly = beta_Ui + alpha_Vi + poly_Wi\n",
    "        \n",
    "        # Evaluate the sum polynomial at tau, then multiply with point G1\n",
    "        #       = (beta*U_i + alpha*V_i + W_i)(tau)*G1\n",
    "        tau_for_C = inner_product(powers_of_tau, sum_poly.coeffs[::-1])\n",
    "        ret.append(tau_for_C)\n",
    "    return ret\n",
    "    \n",
    "taus_for_C = generate_powers_of_tau_for_C(powers_of_tau_for_G1, d, m, L, R, O, alpha, beta)\n",
    "\n",
    "# Prover generates proof\n",
    "A2 = add(alpha_G1, A1)        # random shift for A, [alpha + U(tau)]*G1\n",
    "B2 = add(beta_G2, B1)          # random shift for B, [beta + V(tau)]*G2\n",
    "C_shift = inner_product(taus_for_C, witness)\n",
    "C2 = add(C_shift, evaluate_ht_on_G1_1)\n",
    "    \n",
    "# Verification\n",
    "if pairing(B2, A2) == pairing(beta_G2, alpha_G1) * pairing(G2, C2):\n",
    "    print(\"Pass test #2, proof is correct after introducing alpha and beta!\")\n",
    "else:\n",
    "    print(\"Proof incorrect!\") "
   ]
  },
  {
   "cell_type": "code",
   "execution_count": 8,
   "id": "52968a8b-3ac6-4e51-b1ad-e94c5a135434",
   "metadata": {},
   "outputs": [
    {
     "name": "stdout",
     "output_type": "stream",
     "text": [
      "[alpha_A]G1 = (419450152367147339485068066320756531721511335522937077896755470145337949210, 20301763597314082410784828770189154702250893623668970152805125095437495250675)\n",
      "[beta_B]G2 = ((6418920467410782174782719814429438656569856472015671133497013396353568480409, 18895244054113451962927896519228916777785991650446067259997782296828751706384), (1416914047573087825279887130768894487478152771985891058661583494291027671108, 948948837795359801432286827375213210714157580771625808222805401047834623799))\n",
      "Cw with secret shift= (11852052163167038940000453345511886472713957682561462412800253142343458940643, 10619344730561813181604785145702083042689750791299368075481063297838848378577)\n",
      "C with secret shift= (19379914920844106750386814899197487462704153473286450037930848612096923825876, 3273118210855761670488524772279895736400453728061099751424355232453358034784)\n"
     ]
    }
   ],
   "source": [
    "print(f\"[alpha_A]G1 = {A2}\")\n",
    "print(f\"[beta_B]G2 = {B2}\")\n",
    "print(f\"Cw with secret shift= {C_shift}\")\n",
    "print(f\"C with secret shift= {C2}\")"
   ]
  },
  {
   "cell_type": "code",
   "execution_count": 9,
   "id": "3a442a39-37a8-4be5-85d0-b8317398f3b6",
   "metadata": {},
   "outputs": [
    {
     "name": "stdout",
     "output_type": "stream",
     "text": [
      "Pass test #2, proof is correct after separating public and private inputs!\n"
     ]
    }
   ],
   "source": [
    "\"\"\"\n",
    "    Separate public and private inputs with gamma and delta\n",
    "\"\"\"\n",
    "def generate_powers_of_tau_for_inputs(powers_of_tau, d, m, L_mat, R_mat, O_mat, a, b, l, g_inv, d_inv):\n",
    "    taus_for_pub_inputs = []\n",
    "    taus_for_priv_inputs = []\n",
    "    xs = Fp(np.array([i + 1 for i in range(d + 1)]))\n",
    "    for i in range(m):\n",
    "        poly_Ui = galois.lagrange_poly(xs, L_mat[:, i])\n",
    "        beta_Ui = poly_Ui * b        # multiply U with beta\n",
    "        poly_Vi = galois.lagrange_poly(xs, R_mat[:, i])\n",
    "        alpha_Vi = poly_Vi * a\n",
    "        poly_Wi = galois.lagrange_poly(xs, O_mat[:, i])\n",
    "        sum_poly = beta_Ui + alpha_Vi + poly_Wi\n",
    "        \n",
    "        if i < l:\n",
    "            taus_for_pub_inputs.append(inner_product(powers_of_tau, (sum_poly.coeffs[::-1])*g_inv))\n",
    "        else:\n",
    "            taus_for_priv_inputs.append(inner_product(powers_of_tau, (sum_poly.coeffs[::-1])*d_inv))\n",
    "    return taus_for_pub_inputs, taus_for_priv_inputs\n",
    "    \n",
    "ell = 2  # number of public inputs. In this example, public inputs are 1 and out\n",
    "taus_for_public_inputs, taus_for_private_inputs = generate_powers_of_tau_for_inputs(powers_of_tau_for_G1, d, m, L, R, O, alpha, beta, ell, 1, 1)\n",
    "\n",
    "# Powers of taus for public and private inputs at this step should be same as powers of taus for C before separating inputs\n",
    "assert taus_for_C == taus_for_public_inputs + taus_for_private_inputs\n",
    "\n",
    "C_public = inner_product(taus_for_public_inputs, witness[:ell])\n",
    "C_private_taus = inner_product(taus_for_private_inputs, witness[ell:])\n",
    "C_private = add(C_private_taus, evaluate_ht_on_G1_1)\n",
    "\n",
    "# Likewise values of C should be the same as before separating\n",
    "assert C_shift == add(C_public, C_private_taus)\n",
    "assert C2 == add(C_public, C_private)\n",
    "\n",
    "# Check #2\n",
    "if pairing(B2, A2) == pairing(beta_G2, alpha_G1) * pairing(G2, C_public) * pairing(G2, C_private):\n",
    "    print(\"Pass test #2, proof is correct after separating public and private inputs!\")\n",
    "else:\n",
    "    print(\"Proof incorrect!\")"
   ]
  },
  {
   "cell_type": "code",
   "execution_count": 10,
   "id": "dd45e182-1cdf-4dae-b187-7f2e675e736a",
   "metadata": {},
   "outputs": [
    {
     "name": "stdout",
     "output_type": "stream",
     "text": [
      "Pass test #3, proof is correct after introducing gamma and delta to prevent forgeries with public inputs!\n"
     ]
    }
   ],
   "source": [
    "\"\"\"\n",
    "    Introducing gamma and delta to prevent forgeries with public inputs \n",
    "\"\"\"\n",
    "gamma = random.randint(1, p)\n",
    "gamma_G2 = multiply(G2, int(gamma))  # gamma*G2\n",
    "gamma_inv = Fp(1) / Fp(gamma)\n",
    "delta = random.randint(1, p)\n",
    "delta_G1 = multiply(G1, int(delta))  # delta*G1\n",
    "delta_G2 = multiply(G2, int(delta))  # delta*G2\n",
    "delta_inv = Fp(1) / Fp(delta)\n",
    "\n",
    "t_tau_delta = Fp(t_poly(tau) * delta_inv)\n",
    "powers_of_tau_for_ht2 = [multiply(powers_of_tau_for_G1[i], int(t_tau_delta)) for i in range(d)]\n",
    "evaluate_ht_on_G1_2 = inner_product(powers_of_tau_for_ht2, h_poly.coeffs[::-1])\n",
    "taus_for_public_inputs2, taus_for_private_inputs2 = generate_powers_of_tau_for_inputs(powers_of_tau_for_G1, d, m, L, R, O, alpha, beta, ell, gamma_inv, delta_inv)\n",
    "\n",
    "C_public2 = inner_product(taus_for_public_inputs2, witness[:ell])\n",
    "C_private_taus2 = inner_product(taus_for_private_inputs2, witness[ell:])\n",
    "C_private2 = add(C_private_taus2, evaluate_ht_on_G1_2)\n",
    "\n",
    "# Check #3\n",
    "if pairing(B2, A2) == pairing(beta_G2, alpha_G1) * pairing(delta_G2, C_private2) * pairing(gamma_G2, C_public2):\n",
    "    print(\"Pass test #3, proof is correct after introducing gamma and delta to prevent forgeries with public inputs!\")\n",
    "else:\n",
    "    print(\"Proof incorrect!\")\n",
    "        "
   ]
  },
  {
   "cell_type": "code",
   "execution_count": 11,
   "id": "caf19e40-345d-4e31-8094-ce1f527b5251",
   "metadata": {},
   "outputs": [
    {
     "name": "stdout",
     "output_type": "stream",
     "text": [
      "Pass final test after adding two random values (r, s) to ensure the zero-knowledge!\n"
     ]
    }
   ],
   "source": [
    "\"\"\"\n",
    "    Enforcing true Zero-Knowledge by introducing two random values r and s\n",
    "    Prover samples random value r, and s to prevent verifier from guessing witness values\n",
    "\"\"\"\n",
    "r = random.randint(1, p)\n",
    "s = random.randint(1, p)\n",
    "r_delta_G1 = multiply(delta_G1, int(r))\n",
    "s_delta_G1 = multiply(delta_G1, int(s))\n",
    "s_delta_G2 = multiply(delta_G2, int(s))\n",
    "rs_delta_G1 = multiply(r_delta_G1, int(s))\n",
    "\n",
    "# Update A, B\n",
    "A3 = add(A2, r_delta_G1);\n",
    "beta_G1 = multiply(G1, int(beta))       # beta*G1\n",
    "B_G1 = inner_product(powers_of_tau_for_G1, V_poly.coeffs[::-1])\n",
    "B_beta_G1 = add(B_G1, beta_G1)\n",
    "B3_G1 = add(B_beta_G1, s_delta_G1);\n",
    "B3 = add(B2, s_delta_G2);\n",
    "sA = multiply(A3, int(s))\n",
    "rB1 = multiply(B3_G1, int(r))\n",
    "\n",
    "\n",
    "\"\"\"\n",
    "    Compute C = (W(x) + beta*U(x) + alpha*V(x))*w + h(x)t(x)  + sA + rB1 + rs*delta*G1\n",
    "\"\"\"\n",
    "#C_private_inputs = inner_product(taus_for_private_inputs, witness[ell:])\n",
    "#C_ht = add(C_private_inputs, evaluate_ht_on_G1)\n",
    "C_ht_sa = add(C_private2, sA);\n",
    "C_ht_sa_rb = add(C_ht_sa, rB1);\n",
    "C_private3 = add(C_ht_sa_rb, neg(rs_delta_G1))\n",
    "C_public3 = C_public2\n",
    "\n",
    "\"\"\"\n",
    "Verifying: verifier obtains a proof from prover, consisting of three elliptic curve points:\n",
    "    - [A, B, C]\n",
    "    and two points from trusted server:\n",
    "    - alpha_G1\n",
    "    - beta_G2\n",
    "        \n",
    "    Accept the proof if the below equation is true. Otherwise, reject\n",
    "\"\"\"\n",
    "    \n",
    "# Final check\n",
    "if pairing(B3, A3) == pairing(beta_G2, alpha_G1) * pairing(delta_G2, C_private3) * pairing(gamma_G2, C_public3):\n",
    "    print(\"Pass final test after adding two random values (r, s) to ensure the zero-knowledge!\")\n",
    "else:\n",
    "    print(\"Failed final test\")    "
   ]
  }
 ],
 "metadata": {
  "kernelspec": {
   "display_name": "Python 3 (ipykernel)",
   "language": "python",
   "name": "python3"
  },
  "language_info": {
   "codemirror_mode": {
    "name": "ipython",
    "version": 3
   },
   "file_extension": ".py",
   "mimetype": "text/x-python",
   "name": "python",
   "nbconvert_exporter": "python",
   "pygments_lexer": "ipython3",
   "version": "3.11.4"
  }
 },
 "nbformat": 4,
 "nbformat_minor": 5
}
